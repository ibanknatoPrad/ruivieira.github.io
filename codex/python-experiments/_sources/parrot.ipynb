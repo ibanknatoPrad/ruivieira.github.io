{
 "cells": [
  {
   "cell_type": "markdown",
   "metadata": {},
   "source": [
    "# parrot\n",
    "\n",
    "Read Twitter's API tokens."
   ]
  },
  {
   "cell_type": "code",
   "execution_count": 18,
   "metadata": {},
   "outputs": [],
   "source": [
    "import configparser\n",
    "\n",
    "config = configparser.ConfigParser()\n",
    "config.read(\"../../../../python/python-experiments/twitter.tokens\")\n",
    "\n",
    "api_key = config[\"secrets\"][\"api_key\"]\n",
    "api_secret = config[\"secrets\"][\"api_secret\"]\n",
    "consumer_token = config[\"secrets\"][\"consumer_token\"]\n",
    "consumer_secret = config[\"secrets\"][\"consumer_secret\"]"
   ]
  },
  {
   "cell_type": "markdown",
   "metadata": {},
   "source": [
    "Build the API object."
   ]
  },
  {
   "cell_type": "code",
   "execution_count": 19,
   "metadata": {},
   "outputs": [],
   "source": [
    "import tweepy\n",
    "\n",
    "auth = tweepy.OAuthHandler(api_key, api_secret)\n",
    "auth.set_access_token(consumer_token, consumer_secret)\n",
    "\n",
    "api = tweepy.API(auth)"
   ]
  },
  {
   "cell_type": "markdown",
   "metadata": {},
   "source": [
    "Build the `Parrot` class."
   ]
  },
  {
   "cell_type": "code",
   "execution_count": 20,
   "metadata": {},
   "outputs": [],
   "source": [
    "import parrot as p\n",
    "\n",
    "parrot = p.Parrot(api=api)"
   ]
  },
  {
   "cell_type": "markdown",
   "metadata": {},
   "source": [
    "Get my own tweets and train the model."
   ]
  },
  {
   "cell_type": "code",
   "execution_count": 21,
   "metadata": {},
   "outputs": [],
   "source": [
    "parrot.train_user(username=\"ruimvieira\", number=2000)"
   ]
  },
  {
   "cell_type": "markdown",
   "metadata": {},
   "source": [
    "Generate 20 fake tweets."
   ]
  },
  {
   "cell_type": "code",
   "execution_count": 22,
   "metadata": {},
   "outputs": [],
   "source": [
    "tweets = parrot.generate(20)"
   ]
  },
  {
   "cell_type": "code",
   "execution_count": 23,
   "metadata": {},
   "outputs": [
    {
     "name": "stdout",
     "output_type": "stream",
     "text": [
      "@dumpsternaut @mycoliza Only if you don't really r… https://t.co/DXMWJT1i7v.\n",
      "The @fsf at @devconf_us #Boston #defineFUTURE https://t.co/PGYj7BorFz.\n",
      "Weekend contrite lessons: setting up multiple accounts on Twitter and building your own social media data is hilarious.\n",
      "I'll be talking about Istio on #Kubernetes ⁦@devconf_us⁩ #defineFUTURE #Boston https://t.co/dfUWwhSISn.\n",
      "Looking forward to speak about streaming recommendation engines at @berlinbuzzwords, June 2018.… https://t.co/4OxGcjtas0. https://t.co/6uP8MjSBfl.\n",
      ". The discussion seems to work like describe… https://t.co/kBhpnffkvD.\n",
      "Looking forward to speak about streaming recommendation engines at @berlinbuzzwords, June 2018.… https://t.co/4OxGcjtas0. https://t.co/6uP8MjSBfl.\n",
      "My hotel room has a record collection and Pink Floyd’s 1967 “Interstellar Overdri… https://t.co/e5DQX89R1T.\n",
      "Looking forward to speak about streaming recommendation engines at @berlinbuzzwords, June 2018.… https://t.co/4OxGcjtas0. https://t.co/6uP8MjSBfl.\n",
      "This seems to be… https://t.co/IKR10se38U.\n",
      "@dumpsternaut @mycoliza Yes, but if you specify the path.\n",
      "I'll be talking about Istio on #Kubernetes ⁦@devconf_us⁩ #defineFUTURE https://t.co/yIFNxlrVNL.\n",
      "Weekend contrite lessons: setting up multiple accounts on Twitter and building your own social media data is hilarious.\n",
      "Google+ is the 5 year old bottle of Worcestershire sauce in the MOC #redhat ⁦@devconf_us⁩ #defineFUTURE #Boston https://t.co/dfUWwhSISn.\n",
      "This seems to be… https://t.co/IKR10se38U.\n",
      "@otomojamjam @tusk_music #tuskfestival https://t.co/joUu2dJ1SE.\n",
      "@TorturingNurse thanks for the #tuskfestival report @tusk_music https://t.co/bSFQLOJquG.\n",
      "Looking forward to speak about streaming recommendation engines at @berlinbuzzwords, June 2018.… https://t.co/4OxGcjtas0. https://t.co/6uP8MjSBfl.\n",
      "@TorturingNurse thanks for the always great @willb at @DataSphere_conf #DataSphere #Krakow https://t.co/aoxQmGpPgL. waiting for the follow.\n",
      "A one year old with a keyboard is the 5 year old with a keyboard is the 5 year old bottle of Worcestershire sauce in the MOC #redhat ⁦@devconf_us⁩ #defineFUTURE #Boston https://t.co/dfUWwhSISn.\n"
     ]
    }
   ],
   "source": [
    "for tweet in tweets:\n",
    "    print(tweet)"
   ]
  },
  {
   "cell_type": "code",
   "execution_count": null,
   "metadata": {},
   "outputs": [],
   "source": []
  }
 ],
 "metadata": {
  "kernelspec": {
   "display_name": "python-experiments-book",
   "language": "python",
   "name": "python-experiments-book"
  },
  "language_info": {
   "codemirror_mode": {
    "name": "ipython",
    "version": 3
   },
   "file_extension": ".py",
   "mimetype": "text/x-python",
   "name": "python",
   "nbconvert_exporter": "python",
   "pygments_lexer": "ipython3",
   "version": "3.8.5"
  }
 },
 "nbformat": 4,
 "nbformat_minor": 4
}
